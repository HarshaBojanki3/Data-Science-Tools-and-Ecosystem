{
 "cells": [
  {
   "cell_type": "code",
   "execution_count": null,
   "id": "8bbc327a-12cc-4b23-9869-f1777d35334a",
   "metadata": {},
   "outputs": [],
   "source": [
    "# Data Science Tools and Ecosystem"
   ]
  },
  {
   "cell_type": "code",
   "execution_count": null,
   "id": "ae704abf-6e13-41e9-b1ec-12437ae69e0a",
   "metadata": {},
   "outputs": [],
   "source": [
    "In this notebook, Data Science Tools and Ecosystem are summarized.\n"
   ]
  },
  {
   "cell_type": "code",
   "execution_count": null,
   "id": "88ae8e8c-9d62-4b17-a8b0-bf90df411fbb",
   "metadata": {},
   "outputs": [],
   "source": [
    "Some of the popular languages that Data Scientists use are:\n",
    "1. Python\n",
    "2. R\n",
    "3. SQL\n",
    "4. Julia\n",
    "5. Scala\n"
   ]
  },
  {
   "cell_type": "code",
   "execution_count": null,
   "id": "d26e8521-d66c-4832-84dc-5349ea314aef",
   "metadata": {},
   "outputs": [],
   "source": [
    "Some of the commonly used libraries used by Data Scientists include:\n",
    "1. NumPy\n",
    "2. Pandas\n",
    "3. Scikit-learn\n",
    "4. Matplotlib\n",
    "5. TensorFlow\n"
   ]
  },
  {
   "cell_type": "code",
   "execution_count": null,
   "id": "15c18e8d-4c4f-406c-a5cc-eff879271647",
   "metadata": {},
   "outputs": [],
   "source": [
    "| Data Science Tools |\n",
    "|--------------------|\n",
    "| Jupyter Notebook   |\n",
    "| RStudio            |\n",
    "| Apache Zeppelin    |\n"
   ]
  },
  {
   "cell_type": "code",
   "execution_count": null,
   "id": "da81a6ae-007e-44dc-baf8-951acbf89427",
   "metadata": {},
   "outputs": [],
   "source": [
    "### Below are a few examples of evaluating arithmetic expressions in Python.\n"
   ]
  },
  {
   "cell_type": "code",
   "execution_count": 1,
   "id": "3e766f12-9245-4c51-b34e-ecf5c72c75e9",
   "metadata": {},
   "outputs": [
    {
     "data": {
      "text/plain": [
       "25"
      ]
     },
     "execution_count": 1,
     "metadata": {},
     "output_type": "execute_result"
    }
   ],
   "source": [
    "# This is a simple arithmetic expression to multiply then add integers\n",
    "(4 * 5) + 5\n"
   ]
  },
  {
   "cell_type": "code",
   "execution_count": 2,
   "id": "d092a06f-2728-4c3f-9a90-34dbd3531ac1",
   "metadata": {},
   "outputs": [
    {
     "data": {
      "text/plain": [
       "20.0"
      ]
     },
     "execution_count": 2,
     "metadata": {},
     "output_type": "execute_result"
    }
   ],
   "source": [
    "# This will convert 1200 minutes to hours by dividing by 60\n",
    "1200 / 60\n"
   ]
  },
  {
   "cell_type": "code",
   "execution_count": null,
   "id": "8859f0c2-fe26-4ce8-bcc2-0b31c2f58a70",
   "metadata": {},
   "outputs": [],
   "source": [
    "**Objectives:**\n",
    "- List popular languages for Data Science\n",
    "- List commonly used libraries in Data Science\n",
    "- Introduce development environment open source tools used in data science\n",
    "- Provide examples of evaluating arithmetic expressions in Python\n"
   ]
  },
  {
   "cell_type": "code",
   "execution_count": null,
   "id": "85216a6a-1d6b-4f32-aa1d-6be62345392c",
   "metadata": {},
   "outputs": [],
   "source": [
    "## Author\n",
    "Harsha Bojanki\n"
   ]
  },
  {
   "cell_type": "code",
   "execution_count": null,
   "id": "00c94a37-3e1f-49e7-b2c3-21b42239292b",
   "metadata": {},
   "outputs": [],
   "source": []
  }
 ],
 "metadata": {
  "kernelspec": {
   "display_name": "Python 3 (ipykernel)",
   "language": "python",
   "name": "python3"
  },
  "language_info": {
   "codemirror_mode": {
    "name": "ipython",
    "version": 3
   },
   "file_extension": ".py",
   "mimetype": "text/x-python",
   "name": "python",
   "nbconvert_exporter": "python",
   "pygments_lexer": "ipython3",
   "version": "3.9.6"
  }
 },
 "nbformat": 4,
 "nbformat_minor": 5
}
